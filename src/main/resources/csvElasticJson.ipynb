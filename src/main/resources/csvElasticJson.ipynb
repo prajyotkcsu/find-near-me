{
 "cells": [
  {
   "cell_type": "code",
   "execution_count": 1,
   "id": "35d71e0f-881f-4085-8517-86577b11c76b",
   "metadata": {},
   "outputs": [],
   "source": [
    "csvFilePath = 'C:\\\\beast2023\\\\projects\\\\discovery_app\\\\dataset\\\\restaurants.csv'\n",
    "jsonFilePath = r'C:\\beast2023\\projects\\discovery_app\\dataset\\restaurant.json'"
   ]
  },
  {
   "cell_type": "code",
   "execution_count": 2,
   "id": "9bc4b042-e338-4e38-9b74-fe6bf488d473",
   "metadata": {},
   "outputs": [],
   "source": [
    "import csv \n",
    "import json \n",
    "import collections\n",
    "orderedDict = collections.OrderedDict()\n",
    "from collections import OrderedDict"
   ]
  },
  {
   "cell_type": "code",
   "execution_count": 43,
   "id": "3118e205-9fc8-47c7-86ba-69dfccd6f199",
   "metadata": {},
   "outputs": [],
   "source": [
    "selected_keys = [\"name\", \"category\", 'full_address']"
   ]
  },
  {
   "cell_type": "code",
   "execution_count": 52,
   "id": "048d7be2-059d-4969-b5b9-7bbbd936872e",
   "metadata": {},
   "outputs": [],
   "source": [
    "def csv_to_json(csvFilePath, jsonFilePath):\n",
    "\n",
    "    x = OrderedDict([('index', {})])      \n",
    "    jsonString = json.dumps(x)  \n",
    "    with open(csvFilePath, encoding='utf-8') as csvf: \n",
    "        with open(jsonFilePath, 'w', encoding='utf-8') as jsonf:\n",
    "            csvReader = csv.DictReader(csvf) \n",
    "            for row in csvReader: \n",
    "                for key, value in row.items():\n",
    "                    if value.replace('.', '', 1).lstrip('-').isdigit():\n",
    "                        if '.' in value:\n",
    "                            row[key] = float(value)\n",
    "                        else:\n",
    "                            row[key] = int(value)\n",
    "                    else:\n",
    "                        row[key] = value\n",
    "\n",
    "                jsonf.write(jsonString)\n",
    "                jsonf.write(\"\\n\")\n",
    "                y = json.dumps(row)\n",
    "                \n",
    "                lat = row['lat']\n",
    "                lon = row['lng']\n",
    "                location = {\n",
    "                    'pin': {\n",
    "                        'location': {\n",
    "                            'lat': lat,\n",
    "                            'lon': lon\n",
    "                        }\n",
    "                    }\n",
    "                }\n",
    "                filtered_dict = {key: row[key] for key in selected_keys}\n",
    "                filtered_dict.update(location)\n",
    "\n",
    "                # Print the result\n",
    "                jsonf.write(json.dumps(filtered_dict))\n",
    "                jsonf.write(\"\\n\")"
   ]
  },
  {
   "cell_type": "code",
   "execution_count": 53,
   "id": "df93bfc3-7c0f-4de8-99e1-9889d3d0ba63",
   "metadata": {},
   "outputs": [],
   "source": [
    "csv_to_json(csvFilePath, jsonFilePath)"
   ]
  },
  {
   "cell_type": "code",
   "execution_count": null,
   "id": "00fcd7d5-bdb5-45b0-a993-a1faf50b0ca6",
   "metadata": {},
   "outputs": [],
   "source": []
  }
 ],
 "metadata": {
  "kernelspec": {
   "display_name": "Python 3 (ipykernel)",
   "language": "python",
   "name": "python3"
  },
  "language_info": {
   "codemirror_mode": {
    "name": "ipython",
    "version": 3
   },
   "file_extension": ".py",
   "mimetype": "text/x-python",
   "name": "python",
   "nbconvert_exporter": "python",
   "pygments_lexer": "ipython3",
   "version": "3.12.1"
  }
 },
 "nbformat": 4,
 "nbformat_minor": 5
}
